{
 "cells": [
  {
   "cell_type": "markdown",
   "metadata": {},
   "source": [
    "## STEP 1: is importing all the necessary Libraries\n",
    "We will be using Pandas, Numoy, Seaborn, and Matplotlib\n"
   ]
  },
  {
   "cell_type": "code",
   "execution_count": 4,
   "metadata": {},
   "outputs": [],
   "source": [
    "import pandas as pd\n",
    "import numpy as np\n",
    "import seaborn as sns\n",
    "import matplotlib.pyplot as plt\n"
   ]
  },
  {
   "cell_type": "code",
   "execution_count": 31,
   "metadata": {},
   "outputs": [],
   "source": [
    "# We will now load the data set\n",
    "\n",
    "data = pd.read_csv(\"data/GenZ_DatingApp_Data.csv\")"
   ]
  },
  {
   "cell_type": "code",
   "execution_count": 8,
   "metadata": {},
   "outputs": [
    {
     "name": "stdout",
     "output_type": "stream",
     "text": [
      "0      False\n",
      "1      False\n",
      "2      False\n",
      "3      False\n",
      "4      False\n",
      "       ...  \n",
      "495    False\n",
      "496    False\n",
      "497    False\n",
      "498    False\n",
      "499    False\n",
      "Length: 500, dtype: bool\n"
     ]
    }
   ],
   "source": [
    "# Questions for Students\n",
    "# 1. Are there any duplicate rows? If yes, why might duplicates exist in this dataset?\n",
    "\n",
    "\n",
    "#Using the duplicated() function to check for duplicates\n",
    "duplicates = data.duplicated()\n",
    "print (duplicates)"
   ]
  },
  {
   "cell_type": "code",
   "execution_count": 9,
   "metadata": {},
   "outputs": [],
   "source": [
    "# Based on the output, there are no duplicates in the dataset"
   ]
  },
  {
   "cell_type": "code",
   "execution_count": 13,
   "metadata": {},
   "outputs": [
    {
     "name": "stdout",
     "output_type": "stream",
     "text": [
      "User_ID                       int64\n",
      "Age                           int64\n",
      "Gender                     category\n",
      "Location                   category\n",
      "Education                  category\n",
      "Occupation                 category\n",
      "Primary_App                category\n",
      "Secondary_Apps             category\n",
      "Usage_Frequency            category\n",
      "Daily_Usage_Time           category\n",
      "Reason_for_Using           category\n",
      "Satisfaction                  int64\n",
      "Challenges                 category\n",
      "Desired_Features           category\n",
      "Preferred_Communication    category\n",
      "Partner_Priorities         category\n",
      "dtype: object\n"
     ]
    }
   ],
   "source": [
    "# 2. Are there inconsistencies in categorical values (e.g., spelling variations, case sensitivity)?\n",
    "\n",
    "#Checking the data types\n",
    "print(data.dtypes)\n",
    "\n",
    "# Converting the object data types to Categorys\n",
    "for col in data.select_dtypes(include='object').columns:\n",
    "    data[col] = data[col].astype('category')\n",
    "\n",
    "# Converting the Satisfication column to category\n",
    "\n",
    "data[\"Satisfaction\"] = data[\"Satisfaction\"].astype('category')"
   ]
  },
  {
   "cell_type": "code",
   "execution_count": 17,
   "metadata": {},
   "outputs": [
    {
     "name": "stdout",
     "output_type": "stream",
     "text": [
      "Unique values in Gender:\n",
      "['Non-binary', 'Female', 'Male']\n",
      "Categories (3, object): ['Female', 'Male', 'Non-binary'] \n",
      "\n",
      "Unique values in Location:\n",
      "['Bangalore', 'Delhi', 'Kolkata', 'Mumbai', 'Chennai', 'Pune', 'Hyderabad']\n",
      "Categories (7, object): ['Bangalore', 'Chennai', 'Delhi', 'Hyderabad', 'Kolkata', 'Mumbai', 'Pune'] \n",
      "\n",
      "Unique values in Education:\n",
      "['Undergraduate', 'Graduate', 'Postgraduate']\n",
      "Categories (3, object): ['Graduate', 'Postgraduate', 'Undergraduate'] \n",
      "\n",
      "Unique values in Occupation:\n",
      "['Freelancer', 'Part-time Job', 'Intern', 'Full-time Job', 'Student']\n",
      "Categories (5, object): ['Freelancer', 'Full-time Job', 'Intern', 'Part-time Job', 'Student'] \n",
      "\n",
      "Unique values in Primary_App:\n",
      "['Hinge', NaN, 'OkCupid', 'Tinder', 'Bumble']\n",
      "Categories (4, object): ['Bumble', 'Hinge', 'OkCupid', 'Tinder'] \n",
      "\n",
      "Unique values in Secondary_Apps:\n",
      "['Hinge', 'OkCupid', NaN, 'Tinder', 'Bumble']\n",
      "Categories (4, object): ['Bumble', 'Hinge', 'OkCupid', 'Tinder'] \n",
      "\n",
      "Unique values in Usage_Frequency:\n",
      "['Monthly', 'Weekly', 'Daily']\n",
      "Categories (3, object): ['Daily', 'Monthly', 'Weekly'] \n",
      "\n",
      "Unique values in Daily_Usage_Time:\n",
      "['1 hour', '30 minutes', '2 hours', '1.5 hours', '3 hours']\n",
      "Categories (5, object): ['1 hour', '1.5 hours', '2 hours', '3 hours', '30 minutes'] \n",
      "\n",
      "Unique values in Reason_for_Using:\n",
      "['Finding a Partner', 'Casual Dating', 'Casual Fun', 'Social Interaction']\n",
      "Categories (4, object): ['Casual Dating', 'Casual Fun', 'Finding a Partner', 'Social Interaction'] \n",
      "\n",
      "Unique values in Satisfaction:\n",
      "[4, 5, 3, 2, 1]\n",
      "Categories (5, int64): [1, 2, 3, 4, 5] \n",
      "\n",
      "Unique values in Challenges:\n",
      "['Safety Concerns', 'Time-Wasting', NaN, 'Lack of Genuine Matches']\n",
      "Categories (3, object): ['Lack of Genuine Matches', 'Safety Concerns', 'Time-Wasting'] \n",
      "\n",
      "Unique values in Desired_Features:\n",
      "['Audio Calls', 'Video Calls', 'Detailed Profiles', 'AI Recommendations', 'Location-Based Matching']\n",
      "Categories (5, object): ['AI Recommendations', 'Audio Calls', 'Detailed Profiles', 'Location-Based Matching', 'Video Calls'] \n",
      "\n",
      "Unique values in Preferred_Communication:\n",
      "['Video Calls', 'Text', 'Voice Notes']\n",
      "Categories (3, object): ['Text', 'Video Calls', 'Voice Notes'] \n",
      "\n",
      "Unique values in Partner_Priorities:\n",
      "['Values > Personality > Appearance', 'Personality > Interests > Values', 'Appearance > Interests > Personality']\n",
      "Categories (3, object): ['Appearance > Interests > Personality', 'Personality > Interests > Values', 'Values > Personality > Appearance'] \n",
      "\n"
     ]
    }
   ],
   "source": [
    "for col in data.select_dtypes(include=\"category\"):\n",
    "    print(f\"Unique values in {col}:\")\n",
    "    print(data[col].unique(), \"\\n\")\n"
   ]
  },
  {
   "cell_type": "code",
   "execution_count": null,
   "metadata": {},
   "outputs": [],
   "source": [
    "# From the output of the data set using the Unqiue values function, there are no inconsistencies in the categorical values.\n"
   ]
  },
  {
   "cell_type": "code",
   "execution_count": 22,
   "metadata": {},
   "outputs": [
    {
     "name": "stdout",
     "output_type": "stream",
     "text": [
      "User_ID                    0\n",
      "Age                        0\n",
      "Gender                     0\n",
      "Location                   0\n",
      "Education                  0\n",
      "Occupation                 0\n",
      "Primary_App                0\n",
      "Secondary_Apps             0\n",
      "Usage_Frequency            0\n",
      "Daily_Usage_Time           0\n",
      "Reason_for_Using           0\n",
      "Satisfaction               0\n",
      "Challenges                 0\n",
      "Desired_Features           0\n",
      "Preferred_Communication    0\n",
      "Partner_Priorities         0\n",
      "dtype: int64\n"
     ]
    }
   ],
   "source": [
    "# Checking if there are any missing values in the dataset\n",
    "\n",
    "print(data.isnull().sum())"
   ]
  },
  {
   "cell_type": "code",
   "execution_count": 19,
   "metadata": {},
   "outputs": [],
   "source": [
    "# From the above results, there 107 Primary_App missing values, 114 Secondary_Apps missing values and 117 Challenges Missing values."
   ]
  },
  {
   "cell_type": "code",
   "execution_count": 20,
   "metadata": {},
   "outputs": [],
   "source": [
    "# 3. What should we do if a column has too many missing values?\n",
    "\n",
    "# There are different approaches on dealing with Missing values depending on the type of the data set.\n",
    "# 1. Using the Mean, Median or Mode to fill in the missing values. If the data set is a numeric, then we could use the mean and median to fill the missing values.\n",
    "# If the data set is a categorical data set, we could use the mode to fill in the missing values.\n",
    "# 2. Dropping the missing values\n",
    "# 3. Using the KNN imputer to fill in the missing values\n",
    "# 4. Using the Forward and Backward fill in the missing values"
   ]
  },
  {
   "cell_type": "code",
   "execution_count": 21,
   "metadata": {},
   "outputs": [],
   "source": [
    "# Based on the data type, our dta set is a categorical data set, we could use the mode to fill in the missing values.\n",
    "\n",
    "data[\"Primary_App\"] = data[\"Primary_App\"].fillna(data[\"Primary_App\"].mode()[0])\n",
    "data[\"Secondary_Apps\"]= data[\"Secondary_Apps\"].fillna(data[\"Secondary_Apps\"].mode()[0])\n",
    "data[\"Challenges\"]= data[\"Challenges\"].fillna(data[\"Challenges\"].mode()[0])"
   ]
  },
  {
   "cell_type": "code",
   "execution_count": 24,
   "metadata": {},
   "outputs": [
    {
     "data": {
      "image/png": "[encoded data removed]",
      "text/plain": [
       "<Figure size 800x500 with 1 Axes>"
      ]
     },
     "metadata": {},
     "output_type": "display_data"
    }
   ],
   "source": [
    "# Checking for outliers using Boxplots\n",
    "\n",
    "plt.figure(figsize=(8, 5))\n",
    "sns.boxplot(data=data, y=\"Gender\", x=\"Age\")\n",
    "plt.title(\"Outlier Detection using Boxplot\")\n",
    "plt.show()"
   ]
  },
  {
   "cell_type": "code",
   "execution_count": 28,
   "metadata": {},
   "outputs": [
    {
     "name": "stdout",
     "output_type": "stream",
     "text": [
      "Number of outliers: 0\n"
     ]
    },
    {
     "data": {
      "text/html": [
       "<div>\n",
       "<style scoped>\n",
       "    .dataframe tbody tr th:only-of-type {\n",
       "        vertical-align: middle;\n",
       "    }\n",
       "\n",
       "    .dataframe tbody tr th {\n",
       "        vertical-align: top;\n",
       "    }\n",
       "\n",
       "    .dataframe thead th {\n",
       "        text-align: right;\n",
       "    }\n",
       "</style>\n",
       "<table border=\"1\" class=\"dataframe\">\n",
       "  <thead>\n",
       "    <tr style=\"text-align: right;\">\n",
       "      <th></th>\n",
       "      <th>User_ID</th>\n",
       "      <th>Age</th>\n",
       "      <th>Gender</th>\n",
       "      <th>Location</th>\n",
       "      <th>Education</th>\n",
       "      <th>Occupation</th>\n",
       "      <th>Primary_App</th>\n",
       "      <th>Secondary_Apps</th>\n",
       "      <th>Usage_Frequency</th>\n",
       "      <th>Daily_Usage_Time</th>\n",
       "      <th>Reason_for_Using</th>\n",
       "      <th>Satisfaction</th>\n",
       "      <th>Challenges</th>\n",
       "      <th>Desired_Features</th>\n",
       "      <th>Preferred_Communication</th>\n",
       "      <th>Partner_Priorities</th>\n",
       "    </tr>\n",
       "  </thead>\n",
       "  <tbody>\n",
       "  </tbody>\n",
       "</table>\n",
       "</div>"
      ],
      "text/plain": [
       "Empty DataFrame\n",
       "Columns: [User_ID, Age, Gender, Location, Education, Occupation, Primary_App, Secondary_Apps, Usage_Frequency, Daily_Usage_Time, Reason_for_Using, Satisfaction, Challenges, Desired_Features, Preferred_Communication, Partner_Priorities]\n",
       "Index: []"
      ]
     },
     "execution_count": 28,
     "metadata": {},
     "output_type": "execute_result"
    }
   ],
   "source": [
    "# Checking outliers using the IQR Method\n",
    "\n",
    "Q1 = data[\"Age\"].quantile(0.25)  # First quartile (25%)\n",
    "Q3 = data[\"Age\"].quantile(0.75)  # Third quartile (75%)\n",
    "IQR = Q3 - Q1  # Interquartile range\n",
    "\n",
    "# Define outlier boundaries\n",
    "lower_bound = Q1 - 1.5 * IQR\n",
    "upper_bound = Q3 + 1.5 * IQR\n",
    "\n",
    "# Find outliers\n",
    "outliers = data[(data[\"Age\"] < lower_bound) | (data[\"Age\"] > upper_bound)]\n",
    "print(f\"Number of outliers: {outliers.shape[0]}\")\n",
    "\n",
    "# Display outlier rows\n",
    "outliers"
   ]
  },
  {
   "cell_type": "code",
   "execution_count": null,
   "metadata": {},
   "outputs": [],
   "source": [
    "# 4. From the output, there are no outliers in the numerical columns."
   ]
  }
 ],
 "metadata": {
  "kernelspec": {
   "display_name": ".venv",
   "language": "python",
   "name": "python3"
  },
  "language_info": {
   "codemirror_mode": {
    "name": "ipython",
    "version": 3
   },
   "file_extension": ".py",
   "mimetype": "text/x-python",
   "name": "python",
   "nbconvert_exporter": "python",
   "pygments_lexer": "ipython3",
   "version": "3.13.1"
  }
 },
 "nbformat": 4,
 "nbformat_minor": 2
}
