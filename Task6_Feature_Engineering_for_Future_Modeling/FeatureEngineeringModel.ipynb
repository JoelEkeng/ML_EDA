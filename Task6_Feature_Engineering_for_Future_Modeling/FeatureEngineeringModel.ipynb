{
 "cells": [
  {
   "cell_type": "markdown",
   "metadata": {},
   "source": [
    "This is used to Identify pattern and Biase in the GenZ Data set."
   ]
  },
  {
   "cell_type": "code",
   "execution_count": 11,
   "metadata": {},
   "outputs": [
    {
     "name": "stdout",
     "output_type": "stream",
     "text": [
      "User_ID                       int64\n",
      "Age                           int64\n",
      "Gender                     category\n",
      "Location                   category\n",
      "Education                  category\n",
      "Occupation                 category\n",
      "Primary_App                category\n",
      "Secondary_Apps             category\n",
      "Usage_Frequency            category\n",
      "Daily_Usage_Time           category\n",
      "Reason_for_Using           category\n",
      "Satisfaction               category\n",
      "Challenges                 category\n",
      "Desired_Features           category\n",
      "Preferred_Communication    category\n",
      "Partner_Priorities         category\n",
      "dtype: object\n",
      "          User_ID         Age\n",
      "count  500.000000  500.000000\n",
      "mean   250.500000   21.582000\n",
      "std    144.481833    2.259532\n",
      "min      1.000000   18.000000\n",
      "25%    125.750000   20.000000\n",
      "50%    250.500000   22.000000\n",
      "75%    375.250000   24.000000\n",
      "max    500.000000   25.000000\n",
      "Age data:\n",
      "User_ID                    201\n",
      "Age                        201\n",
      "Gender                     201\n",
      "Location                   201\n",
      "Education                  201\n",
      "Occupation                 201\n",
      "Primary_App                156\n",
      "Secondary_Apps             148\n",
      "Usage_Frequency            201\n",
      "Daily_Usage_Time           201\n",
      "Reason_for_Using           201\n",
      "Satisfaction               201\n",
      "Challenges                 153\n",
      "Desired_Features           201\n",
      "Preferred_Communication    201\n",
      "Partner_Priorities         201\n",
      "dtype: int64\n"
     ]
    }
   ],
   "source": [
    "import pandas as pd\n",
    "import numpy as np\n",
    "import seaborn as sns\n",
    "import matplotlib.pyplot as plt\n",
    "\n",
    "data = pd.read_csv(\"../data/GenZ_DatingApp_Data.csv\")\n",
    "\n",
    "# Converting the object data types to Categorys\n",
    "for col in data.select_dtypes(include='object').columns:\n",
    "    data[col] = data[col].astype('category')\n",
    "\n",
    "# Converting the Satisfication column to category\n",
    "\n",
    "data[\"Satisfaction\"] = data[\"Satisfaction\"].astype('category')\n",
    "#Checking the data types\n",
    "print(data.dtypes)\n",
    "print(data.describe())\n",
    "print(\"Age data:\")\n",
    "print(data[data['Age']>22].count())\n"
   ]
  },
  {
   "cell_type": "markdown",
   "metadata": {},
   "source": [
    "Encode Categorical Variables"
   ]
  },
  {
   "cell_type": "code",
   "execution_count": 7,
   "metadata": {},
   "outputs": [],
   "source": [
    "\n",
    "from sklearn.preprocessing import OneHotEncoder, LabelEncoder\n",
    "\n",
    "# One-Hot Encoding for non-ordinal categorical variables (e.g., 'City', 'Primary_App')\n",
    "data = pd.get_dummies(data, columns=[\"Location\", \"Primary_App\"], drop_first=True)\n",
    "\n",
    "# Label Encoding for ordinal categorical variables (e.g., 'Education')\n",
    "education_mapping = {\"Graduate\": 0, \"Undergraduate\": 1, \"Postgraduate\": 2}\n",
    "data[\"Education\"] = data[\"Education\"].map(education_mapping)\n"
   ]
  },
  {
   "cell_type": "markdown",
   "metadata": {},
   "source": [
    "Normalization of Numerical Variables using MinMaxScaler and StandardScaler"
   ]
  },
  {
   "cell_type": "code",
   "execution_count": 9,
   "metadata": {},
   "outputs": [],
   "source": [
    "from sklearn.preprocessing import MinMaxScaler, StandardScaler\n",
    "\n",
    "# Define numerical columns\n",
    "numerical_cols = [\"Age\"]\n",
    "\n",
    "# Min-Max Scaling\n",
    "scaler = MinMaxScaler()\n",
    "data[numerical_cols] = scaler.fit_transform(data[numerical_cols])"
   ]
  },
  {
   "cell_type": "markdown",
   "metadata": {},
   "source": [
    "Active App Count"
   ]
  },
  {
   "cell_type": "code",
   "execution_count": 12,
   "metadata": {},
   "outputs": [],
   "source": [
    "# Assuming multiple app usage is stored in a list format per user\n",
    "data[\"Active_App_Count\"] = data[\"Primary_App\"].apply(lambda x: len(x.split(\",\")) if isinstance(x, str) else 0)\n"
   ]
  },
  {
   "cell_type": "markdown",
   "metadata": {},
   "source": [
    "Question 1: How can we convert categorical variables into numbers for ML models?\n",
    "\n"
   ]
  },
  {
   "cell_type": "markdown",
   "metadata": {},
   "source": [
    "Answer:\n",
    "\n",
    "Categorical variables can be converted into numerical representations using:\n",
    "\n",
    "1. One-Hot Encoding: Converts categories into binary columns (0 or 1).\n",
    "2. Label Encoding: Assigns unique integers to each category.\n",
    "3. Ordinal Encoding: Used when categories have a natural order (e.g., Education Level: High School < Bachelor's < Master's).\n",
    "4. Binary Encoding: Converts categories into binary code to reduce dimensionality."
   ]
  },
  {
   "cell_type": "markdown",
   "metadata": {},
   "source": [
    "Question 2: Should we normalize numerical data? Why or why not?"
   ]
  },
  {
   "cell_type": "markdown",
   "metadata": {},
   "source": [
    "Answer:\n",
    "Yes, we should normalize numerical data when using distance-based models (e.g., k-NN, SVM, Neural Networks) because features with larger ranges can dominate smaller ones.\n",
    "Methods for normalization:\n",
    "1. MinMaxScaler: Scales values between 0 and 1.\n",
    "2. StandardScaler: Standardizes data by making mean = 0 and standard deviation = 1.\n",
    "\n",
    "No, we may not need normalization for tree-based models like Decision Trees or Random Forests, as they are not affected by feature scaling."
   ]
  },
  {
   "cell_type": "markdown",
   "metadata": {},
   "source": [
    "Question 3: What new features could we create to enhance predictive modeling?\n"
   ]
  },
  {
   "cell_type": "markdown",
   "metadata": {},
   "source": [
    "Answer:\n",
    "\n",
    "1. \"Active App Count\": Number of dating apps a user is active on.\n",
    "2. \"Age Group\": Binning users into Young Gen-Z (18-22) and Older Gen-Z (23-26)."
   ]
  },
  {
   "cell_type": "markdown",
   "metadata": {},
   "source": []
  }
 ],
 "metadata": {
  "kernelspec": {
   "display_name": ".venv",
   "language": "python",
   "name": "python3"
  },
  "language_info": {
   "codemirror_mode": {
    "name": "ipython",
    "version": 3
   },
   "file_extension": ".py",
   "mimetype": "text/x-python",
   "name": "python",
   "nbconvert_exporter": "python",
   "pygments_lexer": "ipython3",
   "version": "3.13.1"
  }
 },
 "nbformat": 4,
 "nbformat_minor": 2
}
